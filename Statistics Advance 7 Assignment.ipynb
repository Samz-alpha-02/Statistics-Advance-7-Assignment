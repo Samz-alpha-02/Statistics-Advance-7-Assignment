{
 "cells": [
  {
   "cell_type": "code",
   "execution_count": 2,
   "id": "5b009dc2-d4aa-405d-8fe8-43a838161740",
   "metadata": {},
   "outputs": [
    {
     "name": "stdout",
     "output_type": "stream",
     "text": [
      "F-value: 0.31802120141342755\n",
      "p-value: 0.5882550250918399\n"
     ]
    }
   ],
   "source": [
    "#Q1\n",
    "import numpy as np\n",
    "import scipy.stats as stats\n",
    "\n",
    "def calculate_f_value(data1, data2):\n",
    "    \"\"\"\n",
    "    Calculate the F-value and p-value for a variance ratio test (ANOVA).\n",
    "\n",
    "    Parameters:\n",
    "    - data1: Array-like or list of values for the first group.\n",
    "    - data2: Array-like or list of values for the second group.\n",
    "\n",
    "    Returns:\n",
    "    - f_value: The F-value statistic.\n",
    "    - p_value: The corresponding p-value for the test.\n",
    "    \"\"\"\n",
    "\n",
    "    f_value, p_value = stats.f_oneway(data1, data2)\n",
    "\n",
    "    return f_value, p_value\n",
    "\n",
    "group1_data = [20, 25, 30, 35, 40]\n",
    "group2_data = [15, 22, 28, 32, 38]\n",
    "\n",
    "f_value, p_value = calculate_f_value(group1_data, group2_data)\n",
    "print(\"F-value:\", f_value)\n",
    "print(\"p-value:\", p_value)\n"
   ]
  },
  {
   "cell_type": "code",
   "execution_count": 3,
   "id": "36dbca3b-cb32-4791-b0cd-329aef221587",
   "metadata": {},
   "outputs": [
    {
     "name": "stdout",
     "output_type": "stream",
     "text": [
      "Critical F-value: 3.8586986662732143\n"
     ]
    }
   ],
   "source": [
    "#Q2\n",
    "import scipy.stats as stats\n",
    "\n",
    "def calculate_critical_f_value(alpha, df_num, df_denom):\n",
    "    \"\"\"\n",
    "    Calculate the critical F-value for a two-tailed test given a significance level (alpha) and\n",
    "    degrees of freedom for the numerator and denominator of an F-distribution.\n",
    "\n",
    "    Parameters:\n",
    "    - alpha: Significance level (e.g., 0.05 for a 95% confidence level).\n",
    "    - df_num: Degrees of freedom for the numerator.\n",
    "    - df_denom: Degrees of freedom for the denominator.\n",
    "\n",
    "    Returns:\n",
    "    - critical_f_value: The critical F-value for the specified alpha and degrees of freedom.\n",
    "    \"\"\"\n",
    "\n",
    "    # Calculate the critical F-value using the percent point function (ppf)\n",
    "    # The ppf function returns the value x such that P(X <= x) = alpha/2 for a two-tailed test\n",
    "    critical_f_value = stats.f.ppf(1 - alpha / 2, df_num, df_denom)\n",
    "\n",
    "    return critical_f_value\n",
    "\n",
    "alpha = 0.05\n",
    "df_num = 3\n",
    "df_denom = 20\n",
    "\n",
    "critical_f_value = calculate_critical_f_value(alpha, df_num, df_denom)\n",
    "print(\"Critical F-value:\", critical_f_value)\n"
   ]
  },
  {
   "cell_type": "code",
   "execution_count": 4,
   "id": "dab31b3b-853d-4e38-8910-8f3869aaf5be",
   "metadata": {},
   "outputs": [
    {
     "name": "stdout",
     "output_type": "stream",
     "text": [
      "F-value: 0.7242619039631234\n",
      "Degrees of freedom (numerator, denominator): 29 29\n",
      "p-value: 0.3901538481296291\n",
      "Fail to reject the null hypothesis: Variances are equal.\n"
     ]
    }
   ],
   "source": [
    "#Q3\n",
    "import numpy as np\n",
    "import scipy.stats as stats\n",
    "\n",
    "mean1 = 0  # Mean for the first distribution\n",
    "mean2 = 0  # Mean for the second distribution\n",
    "variance1 = 1  # Variance for the first distribution (known)\n",
    "variance2 = 2  # Variance for the second distribution (known)\n",
    "\n",
    "np.random.seed(0)  # For reproducibility\n",
    "sample_size = 30  # Sample size for each distribution\n",
    "sample1 = np.random.normal(mean1, np.sqrt(variance1), sample_size)\n",
    "sample2 = np.random.normal(mean2, np.sqrt(variance2), sample_size)\n",
    "\n",
    "# Perform an F-test to compare variances\n",
    "f_statistic = np.var(sample1, ddof=1) / np.var(sample2, ddof=1)\n",
    "df1 = sample_size - 1  # Degrees of freedom for the numerator\n",
    "df2 = sample_size - 1  # Degrees of freedom for the denominator\n",
    "p_value = 2 * min(stats.f.cdf(f_statistic, df1, df2), 1 - stats.f.cdf(f_statistic, df1, df2))\n",
    "\n",
    "print(\"F-value:\", f_statistic)\n",
    "print(\"Degrees of freedom (numerator, denominator):\", df1, df2)\n",
    "print(\"p-value:\", p_value)\n",
    "\n",
    "# Check if the variances are equal (use a significance level, e.g., 0.05)\n",
    "alpha = 0.05\n",
    "if p_value < alpha:\n",
    "    print(\"Reject the null hypothesis: Variances are not equal.\")\n",
    "else:\n",
    "    print(\"Fail to reject the null hypothesis: Variances are equal.\")\n"
   ]
  },
  {
   "cell_type": "code",
   "execution_count": 5,
   "id": "979740b7-9152-46d1-9291-fbc1b4e5281d",
   "metadata": {},
   "outputs": [
    {
     "name": "stdout",
     "output_type": "stream",
     "text": [
      "F-statistic: 1.5\n",
      "Degrees of freedom (numerator, denominator): 11 11\n",
      "p-value: 0.5123897987357995\n",
      "Fail to reject the null hypothesis: The variances are not significantly different.\n"
     ]
    }
   ],
   "source": [
    "#Q4\n",
    "import scipy.stats as stats\n",
    "\n",
    "# Given variances\n",
    "variance1 = 10\n",
    "variance2 = 15\n",
    "\n",
    "# Sample sizes\n",
    "n1 = 12\n",
    "n2 = 12\n",
    "\n",
    "# Calculate the F-statistic\n",
    "if variance1 > variance2:\n",
    "    f_statistic = variance1 / variance2\n",
    "    df1 = n1 - 1\n",
    "    df2 = n2 - 1\n",
    "else:\n",
    "    f_statistic = variance2 / variance1\n",
    "    df1 = n2 - 1\n",
    "    df2 = n1 - 1\n",
    "\n",
    "# Calculate the p-value\n",
    "p_value = 2 * min(stats.f.cdf(f_statistic, df1, df2), 1 - stats.f.cdf(f_statistic, df1, df2))\n",
    "\n",
    "# Significance level\n",
    "alpha = 0.05\n",
    "\n",
    "# Print the results\n",
    "print(\"F-statistic:\", f_statistic)\n",
    "print(\"Degrees of freedom (numerator, denominator):\", df1, df2)\n",
    "print(\"p-value:\", p_value)\n",
    "\n",
    "# Make a decision\n",
    "if p_value < alpha:\n",
    "    print(\"Reject the null hypothesis: The variances are significantly different.\")\n",
    "else:\n",
    "    print(\"Fail to reject the null hypothesis: The variances are not significantly different.\")\n"
   ]
  },
  {
   "cell_type": "code",
   "execution_count": 6,
   "id": "b98b987b-6deb-4189-b96b-362d4916b63a",
   "metadata": {},
   "outputs": [
    {
     "name": "stdout",
     "output_type": "stream",
     "text": [
      "F-statistic: 1.2\n",
      "Degrees of freedom (numerator, denominator): 24 1\n",
      "p-value: 0.7407800760081285\n",
      "Fail to reject the null hypothesis: The claim is justified.\n"
     ]
    }
   ],
   "source": [
    "#Q5\n",
    "import scipy.stats as stats\n",
    "\n",
    "# Given claimed variance and sample variance\n",
    "claimed_variance = 0.005\n",
    "sample_variance = 0.006\n",
    "\n",
    "# Sample size\n",
    "n = 25\n",
    "\n",
    "# Calculate the F-statistic\n",
    "f_statistic = sample_variance / claimed_variance\n",
    "\n",
    "# Degrees of freedom\n",
    "df1 = n - 1\n",
    "df2 = 1\n",
    "\n",
    "# Calculate the p-value\n",
    "p_value = 2 * min(stats.f.cdf(f_statistic, df1, df2), 1 - stats.f.cdf(f_statistic, df1, df2))\n",
    "\n",
    "# Significance level\n",
    "alpha = 0.01\n",
    "\n",
    "# Print the results\n",
    "print(\"F-statistic:\", f_statistic)\n",
    "print(\"Degrees of freedom (numerator, denominator):\", df1, df2)\n",
    "print(\"p-value:\", p_value)\n",
    "\n",
    "# Make a decision\n",
    "if p_value < alpha:\n",
    "    print(\"Reject the null hypothesis: The claim is not justified.\")\n",
    "else:\n",
    "    print(\"Fail to reject the null hypothesis: The claim is justified.\")\n"
   ]
  },
  {
   "cell_type": "code",
   "execution_count": 7,
   "id": "b252c444-8824-48b0-b0dc-d0a4b37c12ff",
   "metadata": {},
   "outputs": [
    {
     "name": "stdout",
     "output_type": "stream",
     "text": [
      "Mean: 1.1111111111111112\n",
      "Variance: 1.0802469135802468\n"
     ]
    }
   ],
   "source": [
    "#Q6\n",
    "def calculate_f_distribution_mean_variance(df1, df2):\n",
    "    \"\"\"\n",
    "    Calculate the mean and variance of an F-distribution given degrees of freedom \n",
    "    for the numerator and denominator.\n",
    "\n",
    "    Parameters:\n",
    "    - df1: Degrees of freedom for the numerator.\n",
    "    - df2: Degrees of freedom for the denominator.\n",
    "\n",
    "    Returns:\n",
    "    - (mean, variance): A tuple containing the mean and variance of the F-distribution.\n",
    "    \"\"\"\n",
    "\n",
    "    # Check if degrees of freedom are valid\n",
    "    if df1 <= 0 or df2 <= 0:\n",
    "        raise ValueError(\"Degrees of freedom must be positive.\")\n",
    "\n",
    "    # Calculate the mean of the F-distribution\n",
    "    if df2 > 2:\n",
    "        mean = df2 / (df2 - 2)\n",
    "    else:\n",
    "        mean = None  # Mean is undefined for df2 <= 2\n",
    "\n",
    "    # Calculate the variance of the F-distribution\n",
    "    if df2 > 4:\n",
    "        variance = (2 * df2 ** 2 * (df1 + df2 - 2)) / (df1 * (df2 - 2) ** 2 * (df2 - 4))\n",
    "    else:\n",
    "        variance = None  # Variance is undefined for df2 <= 4\n",
    "\n",
    "    return mean, variance\n",
    "\n",
    "# Example usage:\n",
    "df1 = 3\n",
    "df2 = 20\n",
    "mean, variance = calculate_f_distribution_mean_variance(df1, df2)\n",
    "print(\"Mean:\", mean)\n",
    "print(\"Variance:\", variance)\n"
   ]
  },
  {
   "cell_type": "code",
   "execution_count": 8,
   "id": "ec0c5ab8-2079-420e-a05b-dd0dfe573266",
   "metadata": {},
   "outputs": [
    {
     "name": "stdout",
     "output_type": "stream",
     "text": [
      "F-statistic: 1.25\n",
      "Degrees of freedom (numerator, denominator): 9 14\n",
      "p-value: 0.6832194382585954\n",
      "Fail to reject the null hypothesis: The variances are equal.\n"
     ]
    }
   ],
   "source": [
    "#Q7\n",
    "import scipy.stats as stats\n",
    "\n",
    "# Given sample variances and sample sizes\n",
    "sample_variance1 = 25\n",
    "sample_size1 = 10\n",
    "sample_variance2 = 20\n",
    "sample_size2 = 15\n",
    "\n",
    "# Calculate the F-statistic\n",
    "if sample_variance1 > sample_variance2:\n",
    "    f_statistic = sample_variance1 / sample_variance2\n",
    "    df1 = sample_size1 - 1\n",
    "    df2 = sample_size2 - 1\n",
    "else:\n",
    "    f_statistic = sample_variance2 / sample_variance1\n",
    "    df1 = sample_size2 - 1\n",
    "    df2 = sample_size1 - 1\n",
    "\n",
    "# Calculate the p-value\n",
    "p_value = 2 * min(stats.f.cdf(f_statistic, df1, df2), 1 - stats.f.cdf(f_statistic, df1, df2))\n",
    "\n",
    "# Significance level\n",
    "alpha = 0.10\n",
    "\n",
    "# Print the results\n",
    "print(\"F-statistic:\", f_statistic)\n",
    "print(\"Degrees of freedom (numerator, denominator):\", df1, df2)\n",
    "print(\"p-value:\", p_value)\n",
    "\n",
    "# Make a decision\n",
    "if p_value < alpha:\n",
    "    print(\"Reject the null hypothesis: The variances are not equal.\")\n",
    "else:\n",
    "    print(\"Fail to reject the null hypothesis: The variances are equal.\")\n"
   ]
  },
  {
   "cell_type": "code",
   "execution_count": 11,
   "id": "44af066a-e2c2-4bc0-a909-16fe9b829a74",
   "metadata": {},
   "outputs": [
    {
     "name": "stdout",
     "output_type": "stream",
     "text": [
      "F-statistic: 1.4551907719609583\n",
      "Degrees of freedom (numerator, denominator): 6 5\n",
      "p-value: 0.6974815747937484\n",
      "Fail to reject the null hypothesis: The variances are equal.\n"
     ]
    }
   ],
   "source": [
    "#Q8\n",
    "import scipy.stats as stats\n",
    "\n",
    "# Waiting times data for Restaurant A and Restaurant B\n",
    "waiting_times_A = [24, 25, 28, 23, 22, 20, 27]\n",
    "waiting_times_B = [31, 33, 35, 30, 32, 36]\n",
    "\n",
    "# Calculate sample variances\n",
    "sample_variance_A = sum((x - sum(waiting_times_A) / len(waiting_times_A))**2 \n",
    "                        for x in waiting_times_A) / (len(waiting_times_A) - 1)\n",
    "sample_variance_B = sum((x - sum(waiting_times_B) / len(waiting_times_B))**2 \n",
    "                        for x in waiting_times_B) / (len(waiting_times_B) - 1)\n",
    "\n",
    "# Calculate the F-statistic\n",
    "if sample_variance_A > sample_variance_B:\n",
    "    f_statistic = sample_variance_A / sample_variance_B\n",
    "    df1 = len(waiting_times_A) - 1\n",
    "    df2 = len(waiting_times_B) - 1\n",
    "else:\n",
    "    f_statistic = sample_variance_B / sample_variance_A\n",
    "    df1 = len(waiting_times_B) - 1\n",
    "    df2 = len(waiting_times_A) - 1\n",
    "\n",
    "# Calculate the p-value\n",
    "p_value = 2 * min(stats.f.cdf(f_statistic, df1, df2), 1 - stats.f.cdf(f_statistic, df1, df2))\n",
    "\n",
    "# Significance level\n",
    "alpha = 0.05\n",
    "\n",
    "# Print the results\n",
    "print(\"F-statistic:\", f_statistic)\n",
    "print(\"Degrees of freedom (numerator, denominator):\", df1, df2)\n",
    "print(\"p-value:\", p_value)\n",
    "\n",
    "# Make a decision\n",
    "if p_value < alpha:\n",
    "    print(\"Reject the null hypothesis: The variances are not equal.\")\n",
    "else:\n",
    "    print(\"Fail to reject the null hypothesis: The variances are equal.\")\n"
   ]
  },
  {
   "cell_type": "code",
   "execution_count": 12,
   "id": "a366d27f-f92c-44b8-958b-04caa0b962a9",
   "metadata": {},
   "outputs": [
    {
     "name": "stdout",
     "output_type": "stream",
     "text": [
      "F-statistic: 1.9442622950819677\n",
      "Degrees of freedom (numerator, denominator): 5 5\n",
      "p-value: 0.4831043549070688\n",
      "Fail to reject the null hypothesis: The variances are equal.\n"
     ]
    }
   ],
   "source": [
    "#Q9\n",
    "import scipy.stats as stats\n",
    "\n",
    "# Test scores data for Group A and Group B\n",
    "test_scores_A = [80, 85, 90, 92, 87, 83]\n",
    "test_scores_B = [75, 78, 82, 79, 81, 84]\n",
    "\n",
    "# Calculate sample variances\n",
    "sample_variance_A = sum((x - sum(test_scores_A) / len(test_scores_A))**2\n",
    "                        for x in test_scores_A) / (len(test_scores_A) - 1)\n",
    "sample_variance_B = sum((x - sum(test_scores_B) / len(test_scores_B))**2 \n",
    "                        for x in test_scores_B) / (len(test_scores_B) - 1)\n",
    "\n",
    "# Calculate the F-statistic\n",
    "if sample_variance_A > sample_variance_B:\n",
    "    f_statistic = sample_variance_A / sample_variance_B\n",
    "    df1 = len(test_scores_A) - 1\n",
    "    df2 = len(test_scores_B) - 1\n",
    "else:\n",
    "    f_statistic = sample_variance_B / sample_variance_A\n",
    "    df1 = len(test_scores_B) - 1\n",
    "    df2 = len(test_scores_A) - 1\n",
    "\n",
    "# Calculate the p-value\n",
    "p_value = 2 * min(stats.f.cdf(f_statistic, df1, df2), 1 - stats.f.cdf(f_statistic, df1, df2))\n",
    "\n",
    "# Significance level\n",
    "alpha = 0.01\n",
    "\n",
    "# Print the results\n",
    "print(\"F-statistic:\", f_statistic)\n",
    "print(\"Degrees of freedom (numerator, denominator):\", df1, df2)\n",
    "print(\"p-value:\", p_value)\n",
    "\n",
    "# Make a decision\n",
    "if p_value < alpha:\n",
    "    print(\"Reject the null hypothesis: The variances are not equal.\")\n",
    "else:\n",
    "    print(\"Fail to reject the null hypothesis: The variances are equal.\")\n"
   ]
  }
 ],
 "metadata": {
  "kernelspec": {
   "display_name": "Python 3 (ipykernel)",
   "language": "python",
   "name": "python3"
  },
  "language_info": {
   "codemirror_mode": {
    "name": "ipython",
    "version": 3
   },
   "file_extension": ".py",
   "mimetype": "text/x-python",
   "name": "python",
   "nbconvert_exporter": "python",
   "pygments_lexer": "ipython3",
   "version": "3.10.8"
  }
 },
 "nbformat": 4,
 "nbformat_minor": 5
}
